{
 "cells": [
  {
   "cell_type": "code",
   "execution_count": 1,
   "metadata": {},
   "outputs": [
    {
     "data": {
      "text/html": [
       "<div>\n",
       "<style scoped>\n",
       "    .dataframe tbody tr th:only-of-type {\n",
       "        vertical-align: middle;\n",
       "    }\n",
       "\n",
       "    .dataframe tbody tr th {\n",
       "        vertical-align: top;\n",
       "    }\n",
       "\n",
       "    .dataframe thead th {\n",
       "        text-align: right;\n",
       "    }\n",
       "</style>\n",
       "<table border=\"1\" class=\"dataframe\">\n",
       "  <thead>\n",
       "    <tr style=\"text-align: right;\">\n",
       "      <th></th>\n",
       "      <th>MedInc</th>\n",
       "      <th>HouseAge</th>\n",
       "      <th>AveRooms</th>\n",
       "      <th>AveBedrms</th>\n",
       "      <th>Population</th>\n",
       "      <th>AveOccup</th>\n",
       "      <th>Latitude</th>\n",
       "      <th>Longitude</th>\n",
       "      <th>price</th>\n",
       "    </tr>\n",
       "  </thead>\n",
       "  <tbody>\n",
       "    <tr>\n",
       "      <th>0</th>\n",
       "      <td>8.3252</td>\n",
       "      <td>41.0</td>\n",
       "      <td>6.984127</td>\n",
       "      <td>1.023810</td>\n",
       "      <td>322.0</td>\n",
       "      <td>2.555556</td>\n",
       "      <td>37.88</td>\n",
       "      <td>-122.23</td>\n",
       "      <td>4.526</td>\n",
       "    </tr>\n",
       "    <tr>\n",
       "      <th>1</th>\n",
       "      <td>8.3014</td>\n",
       "      <td>21.0</td>\n",
       "      <td>6.238137</td>\n",
       "      <td>0.971880</td>\n",
       "      <td>2401.0</td>\n",
       "      <td>2.109842</td>\n",
       "      <td>37.86</td>\n",
       "      <td>-122.22</td>\n",
       "      <td>3.585</td>\n",
       "    </tr>\n",
       "    <tr>\n",
       "      <th>2</th>\n",
       "      <td>7.2574</td>\n",
       "      <td>52.0</td>\n",
       "      <td>8.288136</td>\n",
       "      <td>1.073446</td>\n",
       "      <td>496.0</td>\n",
       "      <td>2.802260</td>\n",
       "      <td>37.85</td>\n",
       "      <td>-122.24</td>\n",
       "      <td>3.521</td>\n",
       "    </tr>\n",
       "    <tr>\n",
       "      <th>3</th>\n",
       "      <td>5.6431</td>\n",
       "      <td>52.0</td>\n",
       "      <td>5.817352</td>\n",
       "      <td>1.073059</td>\n",
       "      <td>558.0</td>\n",
       "      <td>2.547945</td>\n",
       "      <td>37.85</td>\n",
       "      <td>-122.25</td>\n",
       "      <td>3.413</td>\n",
       "    </tr>\n",
       "    <tr>\n",
       "      <th>4</th>\n",
       "      <td>3.8462</td>\n",
       "      <td>52.0</td>\n",
       "      <td>6.281853</td>\n",
       "      <td>1.081081</td>\n",
       "      <td>565.0</td>\n",
       "      <td>2.181467</td>\n",
       "      <td>37.85</td>\n",
       "      <td>-122.25</td>\n",
       "      <td>3.422</td>\n",
       "    </tr>\n",
       "  </tbody>\n",
       "</table>\n",
       "</div>"
      ],
      "text/plain": [
       "   MedInc  HouseAge  AveRooms  AveBedrms  Population  AveOccup  Latitude  \\\n",
       "0  8.3252      41.0  6.984127   1.023810       322.0  2.555556     37.88   \n",
       "1  8.3014      21.0  6.238137   0.971880      2401.0  2.109842     37.86   \n",
       "2  7.2574      52.0  8.288136   1.073446       496.0  2.802260     37.85   \n",
       "3  5.6431      52.0  5.817352   1.073059       558.0  2.547945     37.85   \n",
       "4  3.8462      52.0  6.281853   1.081081       565.0  2.181467     37.85   \n",
       "\n",
       "   Longitude  price  \n",
       "0    -122.23  4.526  \n",
       "1    -122.22  3.585  \n",
       "2    -122.24  3.521  \n",
       "3    -122.25  3.413  \n",
       "4    -122.25  3.422  "
      ]
     },
     "execution_count": 1,
     "metadata": {},
     "output_type": "execute_result"
    }
   ],
   "source": [
    "# import libraries\n",
    "import pandas as pd\n",
    "import numpy as np\n",
    "import matplotlib.pyplot as plt\n",
    "import seaborn as sns\n",
    "from sklearn.datasets import fetch_california_housing\n",
    "\n",
    "# load the dataset\n",
    "california = fetch_california_housing()\n",
    "\n",
    "# convert to pandas dataframe\n",
    "california_df = pd.DataFrame(california.data, columns=california.feature_names)\n",
    "california_df['price'] = california.target\n",
    "\n",
    "# check the first 5 rows\n",
    "california_df.head()"
   ]
  },
  {
   "cell_type": "code",
   "execution_count": 4,
   "metadata": {},
   "outputs": [
    {
     "name": "stdout",
     "output_type": "stream",
     "text": [
      "y = -36.94 + 0.44*MedInc + 0.01*HouseAge + -0.11*AveRooms + 0.65*AveBedrms + -0.00*Population + -0.00*AveOccup + -0.42*Latitude + -0.43*Longitude\n"
     ]
    }
   ],
   "source": [
    "# fitting the linear regression model\n",
    "X = california_df.drop('price', axis=1)\n",
    "y = california_df['price']\n",
    "\n",
    "# import linear regression model\n",
    "from sklearn.linear_model import LinearRegression\n",
    "\n",
    "# instantiate the model\n",
    "lr_multiple = LinearRegression()\n",
    "\n",
    "# fit the model\n",
    "lr_multiple.fit(X, y)\n",
    "\n",
    "# print the coefficients\n",
    "coeff_lr = lr_multiple.coef_\n",
    "\n",
    "# create the linear regression equation\n",
    "print('y = {:.2f} + {:.2f}*MedInc + {:.2f}*HouseAge + {:.2f}*AveRooms + {:.2f}*AveBedrms + \\\n",
    "{:.2f}*Population + {:.2f}*AveOccup + {:.2f}*Latitude + {:.2f}*Longitude'.format(lr_multiple.intercept_, \\\n",
    "coeff_lr[0], coeff_lr[1], coeff_lr[2], coeff_lr[3], coeff_lr[4], coeff_lr[5], coeff_lr[6], coeff_lr[7]))"
   ]
  },
  {
   "cell_type": "code",
   "execution_count": 9,
   "metadata": {},
   "outputs": [
    {
     "name": "stdout",
     "output_type": "stream",
     "text": [
      "y = -36.94 + 0.44*MedInc + 0.01*HouseAge + -0.11*AveRooms + 0.64*AveBedrms + -0.00*Population + -0.00*AveOccup + -0.42*Latitude + -0.43*Longitude\n"
     ]
    }
   ],
   "source": [
    "# fit a ridge regression model\n",
    "from sklearn.linear_model import Ridge\n",
    "\n",
    "# instantiate the model\n",
    "ridge = Ridge(alpha=0.2)\n",
    "\n",
    "# fit the model\n",
    "ridge.fit(X, y)\n",
    "\n",
    "# print the coefficients\n",
    "coeff_ridge = ridge.coef_\n",
    "\n",
    "# create the ridge regression equation\n",
    "print('y = {:.2f} + {:.2f}*MedInc + {:.2f}*HouseAge + {:.2f}*AveRooms + {:.2f}*AveBedrms + \\\n",
    "{:.2f}*Population + {:.2f}*AveOccup + {:.2f}*Latitude + {:.2f}*Longitude'.format(ridge.intercept_, \\\n",
    "coeff_ridge[0], coeff_ridge[1], coeff_ridge[2], coeff_ridge[3], coeff_ridge[4], coeff_ridge[5], coeff_ridge[6], coeff_ridge[7]))"
   ]
  },
  {
   "cell_type": "code",
   "execution_count": 10,
   "metadata": {},
   "outputs": [
    {
     "name": "stdout",
     "output_type": "stream",
     "text": [
      "Linear Regression score: 0.61\n",
      "Ridge Regression score: 0.61\n"
     ]
    }
   ],
   "source": [
    "# compare the score of linear regression and ridge regression\n",
    "print('Linear Regression score: {:.2f}'.format(lr_multiple.score(X, y)))\n",
    "print('Ridge Regression score: {:.2f}'.format(ridge.score(X, y)))"
   ]
  },
  {
   "cell_type": "code",
   "execution_count": 12,
   "metadata": {},
   "outputs": [
    {
     "name": "stdout",
     "output_type": "stream",
     "text": [
      "y = 0.39 + 0.37*MedInc + 0.02*HouseAge + -0.00*AveRooms + 0.00*AveBedrms + 0.00*Population + -0.00*AveOccup + -0.01*Latitude + -0.00*Longitude\n",
      "y = -36.94 + 0.44*MedInc + 0.01*HouseAge + -0.11*AveRooms + 0.64*AveBedrms + -0.00*Population + -0.00*AveOccup + -0.42*Latitude + -0.43*Longitude\n"
     ]
    }
   ],
   "source": [
    "# lasso regression\n",
    "from sklearn.linear_model import Lasso\n",
    "\n",
    "# instantiate the model\n",
    "lasso = Lasso(alpha=0.2)\n",
    "\n",
    "# fit the model\n",
    "lasso.fit(X, y)\n",
    "\n",
    "# print the coefficients\n",
    "coeff_lasso = lasso.coef_\n",
    "\n",
    "# create the lasso regression equation\n",
    "print('y = {:.2f} + {:.2f}*MedInc + {:.2f}*HouseAge + {:.2f}*AveRooms + {:.2f}*AveBedrms + \\\n",
    "{:.2f}*Population + {:.2f}*AveOccup + {:.2f}*Latitude + {:.2f}*Longitude'.format(lasso.intercept_, \\\n",
    "coeff_lasso[0], coeff_lasso[1], coeff_lasso[2], coeff_lasso[3], coeff_lasso[4], coeff_lasso[5], coeff_lasso[6], coeff_lasso[7]))\n",
    "\n",
    "print('y = {:.2f} + {:.2f}*MedInc + {:.2f}*HouseAge + {:.2f}*AveRooms + {:.2f}*AveBedrms + \\\n",
    "{:.2f}*Population + {:.2f}*AveOccup + {:.2f}*Latitude + {:.2f}*Longitude'.format(ridge.intercept_, \\\n",
    "coeff_ridge[0], coeff_ridge[1], coeff_ridge[2], coeff_ridge[3], coeff_ridge[4], coeff_ridge[5], coeff_ridge[6], coeff_ridge[7]))"
   ]
  },
  {
   "cell_type": "code",
   "execution_count": 13,
   "metadata": {},
   "outputs": [
    {
     "name": "stdout",
     "output_type": "stream",
     "text": [
      "Linear Regression score: 0.61\n",
      "Ridge Regression score: 0.61\n",
      "Lasso Regression score: 0.50\n"
     ]
    }
   ],
   "source": [
    "# compare the score of linear regression and ridge regression and lasso regression\n",
    "print('Linear Regression score: {:.2f}'.format(lr_multiple.score(X, y)))\n",
    "print('Ridge Regression score: {:.2f}'.format(ridge.score(X, y)))\n",
    "print('Lasso Regression score: {:.2f}'.format(lasso.score(X, y)))"
   ]
  },
  {
   "cell_type": "code",
   "execution_count": 15,
   "metadata": {},
   "outputs": [
    {
     "data": {
      "image/png": "[encoded data removed]",
      "text/plain": [
       "<Figure size 600x600 with 1 Axes>"
      ]
     },
     "metadata": {},
     "output_type": "display_data"
    }
   ],
   "source": [
    "# get most important features \n",
    "feature_importance = pd.DataFrame({'feature': california.feature_names, 'importance': coeff_lasso})\n",
    "\n",
    "# sort the values\n",
    "feature_importance.sort_values(by='importance', ascending=False, inplace=True)\n",
    "\n",
    "# plot the feature importance\n",
    "plt.figure(figsize=(6, 6))\n",
    "sns.barplot(x='feature', y='importance', data=feature_importance)\n",
    "plt.title('Feature Importance')\n",
    "plt.xlabel('Features')\n",
    "plt.ylabel('Importance')\n",
    "plt.xticks(rotation=45)\n",
    "plt.show()"
   ]
  },
  {
   "cell_type": "markdown",
   "metadata": {},
   "source": [
    "- Linear Regression \n",
    "- Ridge Regression where the coefficients are regularized with L2-norm\n",
    "- Lasso Regression where the coefficients are regularized with L1-norm"
   ]
  },
  {
   "cell_type": "code",
   "execution_count": 16,
   "metadata": {},
   "outputs": [],
   "source": [
    "# create a function to fit and score a chosen model (Linear Regression, Ridge Regression, Lasso Regression)\n",
    "\n",
    "def fit_and_score_model(X, y):\n",
    "    '''\n",
    "    Fits and scores a given model.\n",
    "    model: chosen model\n",
    "    X: features\n",
    "    y: target\n",
    "    '''\n",
    "    # import train_test_split\n",
    "    from sklearn.model_selection import train_test_split\n",
    "    from sklearn.linear_model import LinearRegression, Ridge, Lasso\n",
    "\n",
    "    # choose the model (get user input)\n",
    "    model = input('Choose a model (lr, ridge, lasso): ')\n",
    "\n",
    "    # instantiate the model\n",
    "    if model == 'lr':\n",
    "        model = LinearRegression()\n",
    "    elif model == 'ridge':\n",
    "        model = Ridge()\n",
    "    elif model == 'lasso':\n",
    "        model = Lasso()\n",
    "    else:\n",
    "        print('Invalid model. Choose a model from lr, ridge, lasso.')\n",
    "    \n",
    "    # split the data into train and test sets\n",
    "    X_train, X_test, y_train, y_test = train_test_split(X, y, test_size=0.2)\n",
    "    \n",
    "    # fit the model\n",
    "    model.fit(X_train, y_train)\n",
    "    \n",
    "    # print the score\n",
    "    print('Score: {:.2f}'.format(model.score(X_test, y_test)))\n",
    "    \n",
    "    # print the coefficients\n",
    "    print('Coefficients: {}'.format(model.coef_))\n",
    "    \n",
    "    # print the intercept\n",
    "    print('Intercept: {:.2f}'.format(model.intercept_))"
   ]
  },
  {
   "cell_type": "code",
   "execution_count": 19,
   "metadata": {},
   "outputs": [
    {
     "name": "stdout",
     "output_type": "stream",
     "text": [
      "Score: 0.29\n",
      "Coefficients: [ 1.41387282e-01  6.02770992e-03  0.00000000e+00 -0.00000000e+00\n",
      " -2.18616364e-06 -0.00000000e+00 -0.00000000e+00 -0.00000000e+00]\n",
      "Intercept: 1.35\n"
     ]
    }
   ],
   "source": [
    "fit_and_score_model(X, y)"
   ]
  },
  {
   "cell_type": "code",
   "execution_count": null,
   "metadata": {},
   "outputs": [],
   "source": []
  }
 ],
 "metadata": {
  "kernelspec": {
   "display_name": "Python 3",
   "language": "python",
   "name": "python3"
  },
  "language_info": {
   "codemirror_mode": {
    "name": "ipython",
    "version": 3
   },
   "file_extension": ".py",
   "mimetype": "text/x-python",
   "name": "python",
   "nbconvert_exporter": "python",
   "pygments_lexer": "ipython3",
   "version": "3.11.7"
  }
 },
 "nbformat": 4,
 "nbformat_minor": 2
}
